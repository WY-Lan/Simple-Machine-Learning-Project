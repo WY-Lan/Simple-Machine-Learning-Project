{
 "cells": [
  {
   "cell_type": "code",
   "execution_count": 7,
   "id": "358c94f2",
   "metadata": {},
   "outputs": [
    {
     "name": "stdout",
     "output_type": "stream",
     "text": [
      "参数太多 - 3\n"
     ]
    }
   ],
   "source": [
    "!tree -L 3 c:"
   ]
  },
  {
   "cell_type": "code",
   "execution_count": 70,
   "id": "1ccfd869",
   "metadata": {},
   "outputs": [
    {
     "name": "stdout",
     "output_type": "stream",
     "text": [
      "E:\\jupyter\\baidu_paddle\\LSTM\n",
      "2\n",
      "1\n",
      "True\n"
     ]
    }
   ],
   "source": [
    "import zipfile\n",
    "import os\n",
    "def unzip_data(src_path,target_path):\n",
    "    #解压原压缩包的数据集到指定的数据中\n",
    "    print(target_path)\n",
    "    print(2)\n",
    "    if(os.path.isdir(target_path)):#判断目标路径是不是一个文件夹\n",
    "        print(1)\n",
    "        z = zipfile.ZipFile(src_path, 'r')#打开文件夹，将压缩包的内容放在目标地址\n",
    "        z.extractall(path=target_path)\n",
    "        z.close()\n",
    "    else:\n",
    "        print(3)\n",
    "    print(os.path.isdir(target_path))\n",
    "\n",
    "unzip_data('E:\\\\tempory profile\\\\LSTM-master.zip','E:\\\\jupyter\\\\baidu_paddle\\\\LSTM')"
   ]
  },
  {
   "cell_type": "code",
   "execution_count": 72,
   "id": "127b6d84",
   "metadata": {},
   "outputs": [],
   "source": [
    "import os\n",
    " \n",
    "\"\"\"\n",
    "通过给定目录，统计所有的不同子文件类型及占用内存\n",
    "\"\"\"\n",
    "size_dict = {}\n",
    "type_dict = {}#作为全局变量进行处理\n",
    "def get_size_type(path):\n",
    "    files = os.listdir(path)\n",
    "    for filename in files:\n",
    "        temp_path = os.path.join(path, filename)#拼接绝对路径\n",
    "        if os.path.isdir(temp_path):\n",
    "            get_size_type(temp_path)\n",
    "        elif os.path.isfile(temp_path):\n",
    "            type_name = os.path.splitext(temp_path)[1]\n",
    "            if not type_name:\n",
    "                type_dict.setdefault(\"None\",0)\n",
    "                type_dict[\"None\"] += 1\n",
    "                size_dict.setdefault(\"None\",0)\n",
    "                size_dict[\"None\"] += os.path.getsize(temp_path)\n",
    "            else:\n",
    "                type_dict.setdefault(type_name, 0)\n",
    "                type_dict[type_name] += 1\n",
    "                size_dict.setdefault(type_name, 0)\n",
    "                size_dict[type_name] += os.path.getsize(temp_path)"
   ]
  },
  {
   "cell_type": "code",
   "execution_count": 73,
   "id": "9c452208",
   "metadata": {},
   "outputs": [
    {
     "name": "stdout",
     "output_type": "stream",
     "text": [
      "E:\\jupyter\\baidu_paddle\\LSTM下共有【  .py】的文件【   89】个，占用的内存【   0.34】MB\n",
      "E:\\jupyter\\baidu_paddle\\LSTM下共有【 .csv】的文件【   26】个，占用的内存【  23.03】MB\n",
      "E:\\jupyter\\baidu_paddle\\LSTM下共有【 .txt】的文件【   15】个，占用的内存【   0.00】MB\n",
      "E:\\jupyter\\baidu_paddle\\LSTM下共有【 None】的文件【    3】个，占用的内存【   0.00】MB\n",
      "E:\\jupyter\\baidu_paddle\\LSTM下共有【.conf】的文件【    1】个，占用的内存【   0.00】MB\n",
      "E:\\jupyter\\baidu_paddle\\LSTM下共有【  .md】的文件【    1】个，占用的内存【   0.00】MB\n",
      "E:\\jupyter\\baidu_paddle\\LSTM下共有【.data-00000-of-00001】的文件【    2】个，占用的内存【   0.04】MB\n",
      "E:\\jupyter\\baidu_paddle\\LSTM下共有【.index】的文件【    2】个，占用的内存【   0.00】MB\n",
      "E:\\jupyter\\baidu_paddle\\LSTM下共有【.meta】的文件【    2】个，占用的内存【   0.52】MB\n",
      "E:\\jupyter\\baidu_paddle\\LSTM下共有【  .h5】的文件【    1】个，占用的内存【   0.03】MB\n",
      "总文件数目：【142】个\n",
      "总内存的大小：【0.02】GB\n"
     ]
    }
   ],
   "source": [
    "path = \"E:\\\\jupyter\\\\baidu_paddle\\\\LSTM\"\n",
    "#path = \"LSTM\"\n",
    "get_size_type(path)\n",
    "for each_type in type_dict.keys():#遍历键\n",
    "    print(\"%5s下共有【%5s】的文件【%5d】个，占用的内存【%7.2f】MB\" % (path,each_type,type_dict[each_type],size_dict[each_type]/(1024*1024)))\n",
    "print(\"总文件数目：【%d】个\" % (sum(type_dict.values())))\n",
    "print(\"总内存的大小：【%.2f】GB\" % (sum(size_dict.values())/(1024**3)))"
   ]
  },
  {
   "cell_type": "code",
   "execution_count": null,
   "id": "cae80167",
   "metadata": {},
   "outputs": [],
   "source": []
  },
  {
   "cell_type": "code",
   "execution_count": null,
   "id": "ba7f7697",
   "metadata": {},
   "outputs": [],
   "source": []
  },
  {
   "cell_type": "code",
   "execution_count": null,
   "id": "6f5e6897",
   "metadata": {},
   "outputs": [],
   "source": []
  },
  {
   "cell_type": "code",
   "execution_count": null,
   "id": "3c04b0c2",
   "metadata": {},
   "outputs": [],
   "source": []
  },
  {
   "cell_type": "code",
   "execution_count": null,
   "id": "e9c0849d",
   "metadata": {},
   "outputs": [],
   "source": []
  },
  {
   "cell_type": "code",
   "execution_count": null,
   "id": "f316a3a2",
   "metadata": {},
   "outputs": [],
   "source": []
  },
  {
   "cell_type": "code",
   "execution_count": null,
   "id": "7b3d0137",
   "metadata": {},
   "outputs": [],
   "source": []
  }
 ],
 "metadata": {
  "kernelspec": {
   "display_name": "baidu_paddle",
   "language": "python",
   "name": "baidu_paddle"
  },
  "language_info": {
   "codemirror_mode": {
    "name": "ipython",
    "version": 3
   },
   "file_extension": ".py",
   "mimetype": "text/x-python",
   "name": "python",
   "nbconvert_exporter": "python",
   "pygments_lexer": "ipython3",
   "version": "3.7.15"
  }
 },
 "nbformat": 4,
 "nbformat_minor": 5
}
