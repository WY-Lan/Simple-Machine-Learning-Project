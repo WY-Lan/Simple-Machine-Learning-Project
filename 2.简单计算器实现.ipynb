{
 "cells": [
  {
   "cell_type": "code",
   "execution_count": 1,
   "id": "c25d3073",
   "metadata": {},
   "outputs": [],
   "source": [
    "import re"
   ]
  },
  {
   "cell_type": "code",
   "execution_count": 2,
   "id": "8d291601",
   "metadata": {},
   "outputs": [],
   "source": [
    "def calculate(n1, n2, operater):\n",
    "    '''\n",
    "    n1 和 n2 是两个都需要计算的数 float\n",
    "    operater 是操作数\n",
    "    '''\n",
    "    result = 0\n",
    "    if operater == '+':\n",
    "        return n1 + n2\n",
    "    if operater == '-':\n",
    "        return n1 - n2\n",
    "    if operater ==  '*':\n",
    "        return n1 * n2\n",
    "    if operater == '/':\n",
    "        return n1 / n2"
   ]
  },
  {
   "cell_type": "code",
   "execution_count": 10,
   "id": "cecd4705",
   "metadata": {},
   "outputs": [],
   "source": [
    "def is_operater(operater):\n",
    "    opers = ['+', '-', '*', '/', '(', ')']\n",
    "    return True if operater in opers else False #列表中可以直接 in 是否在list中 "
   ]
  },
  {
   "cell_type": "code",
   "execution_count": 4,
   "id": "41925a49",
   "metadata": {},
   "outputs": [
    {
     "name": "stdout",
     "output_type": "stream",
     "text": [
      "['1', '-2', '-(2', '-3', ')']\n",
      "['1', '-', '2', '-', '(', '2', '-', '3', ')']\n"
     ]
    }
   ],
   "source": [
    "# 算式处理成列表  解决 -是减号还是负号的问题\n",
    "def formula_format(formula):\n",
    "    #formula 是算式\n",
    "    formula = re.sub(' ', '', formula)#对这里进行替换\n",
    "    formula_lsit = [i for i in re.split('(\\-\\d+\\.?\\d*)',formula) if i]#这里为什么要对这个i进行判断\n",
    "    print(formula_lsit)\n",
    "    \n",
    "    final_formula = []\n",
    "    for item in formula_lsit:\n",
    "        if len(final_formula) == 0 and re.search('^\\-\\d+\\.?\\d*$', item):#如果这个数的第一个数是小数\n",
    "            final_formula.append(item)\n",
    "        \n",
    "        if len(final_formula) > 0:\n",
    "            if re.search('[\\+\\-\\*\\/\\(]$',final_formula[-1]):\n",
    "                final_formula.append(item)\n",
    "                continue\n",
    "        # 按照运算符进行分开\n",
    "        item_split = [i for i in re.split('([\\+\\-\\*\\(\\)])', item) if i] #否则  这些就都是\n",
    "        final_formula += item_split\n",
    "    return final_formula\n",
    "print(formula_format('1-2-(2-3)'))"
   ]
  },
  {
   "cell_type": "code",
   "execution_count": 26,
   "id": "da632d1c",
   "metadata": {},
   "outputs": [],
   "source": [
    "def decision(tail_op, now_op):\n",
    "    '''\n",
    "    tail_op 运算符栈的最后一个运算符\n",
    "    now_op 从算式列表中去除当前的运算符\n",
    "    return 1弹栈  0 代表栈的最后一个元素  -1 表示入\n",
    "    '''\n",
    "    # 定义四种运算规则\n",
    "    rate1 = ['+', '-']\n",
    "    rate2 = ['*', '/']\n",
    "    rate3 = ['(']\n",
    "    rate4 = [')']\n",
    "    \n",
    "    if tail_op in rate1:\n",
    "        if now_op in rate2 or now_op in rate3:\n",
    "            #说明两个运算符 需要入栈\n",
    "            return -1\n",
    "        else:\n",
    "            return 1 #进行运算\n",
    "    \n",
    "    elif tail_op in rate2:\n",
    "        if now_op in rate3:\n",
    "            return -1\n",
    "        else:\n",
    "            return 1\n",
    "    \n",
    "    elif tail_op in rate3:#单独的一个( 应当直接提出\n",
    "        if now_op in rate4:\n",
    "            return 0#进行出栈的操作\n",
    "        else:\n",
    "            return -1\n",
    "    else:\n",
    "        return -1\n"
   ]
  },
  {
   "cell_type": "code",
   "execution_count": 32,
   "id": "f29ac81f",
   "metadata": {},
   "outputs": [],
   "source": [
    "def final_calc(formula_list):\n",
    "    num_stack = []#数字栈\n",
    "    op_stack = []# 运算符栈\n",
    "    for e in formula_list:\n",
    "        operater = is_operater(e)\n",
    "        if not operater:\n",
    "            #压入数字栈\n",
    "            num_stack.append(float(e))\n",
    "        else:\n",
    "            while True:\n",
    "                if len(op_stack) == 0:\n",
    "                    #如果之前的运算符栈为空\n",
    "                    op_stack.append(e)\n",
    "                    break\n",
    "                tag = decision(op_stack[-1],e)#对运算符进行做决策\n",
    "                if tag == -1:\n",
    "                    op_stack.append(e)\n",
    "                    break\n",
    "                elif tag == 0:\n",
    "                    op_stack.pop()#弹出最后一个\n",
    "                    break\n",
    "                elif tag == 1:\n",
    "                    op = op_stack.pop() #对运算符进行运算\n",
    "                    num2 = num_stack.pop()\n",
    "                    num1 = num_stack.pop()\n",
    "                    \n",
    "                    num_stack.append(calculate(num1, num2, op))\n",
    "        print(num_stack,op_stack)   \n",
    "        #处理完大循环之后，两个栈里面还存在一些数\n",
    "    while len(op_stack) != 0:\n",
    "            op = op_stack.pop()\n",
    "            num2 = num_stack.pop()\n",
    "            num1 = num_stack.pop()\n",
    "            num_stack.append(calculate(num1,num2,op))\n",
    "            \n",
    "    return num_stack"
   ]
  },
  {
   "cell_type": "code",
   "execution_count": 34,
   "id": "973be651",
   "metadata": {},
   "outputs": [
    {
     "name": "stdout",
     "output_type": "stream",
     "text": [
      "请输入：\n",
      "(1*(2+3))\n",
      "算式： (1*(2+3))\n",
      "['(1*(2+3))']\n",
      "['(', '1', '*', '(', '2', '+', '3', ')', ')']\n",
      "[] ['(']\n",
      "[1.0] ['(']\n",
      "[1.0] ['(', '*']\n",
      "[1.0] ['(', '*', '(']\n",
      "[1.0, 2.0] ['(', '*', '(']\n",
      "[1.0, 2.0] ['(', '*', '(', '+']\n",
      "[1.0, 2.0, 3.0] ['(', '*', '(', '+']\n",
      "[1.0, 5.0] ['(', '*']\n",
      "[5.0] []\n",
      "计算结果： 5.0\n",
      "[5.0]\n"
     ]
    }
   ],
   "source": [
    "if __name__ == '__main__':\n",
    "    formula = input('请输入：\\n')\n",
    "    print(\"算式：\",formula)\n",
    "    formula_list = formula_format(formula)\n",
    "    print(formula_list)\n",
    "    result = final_calc(formula_list)\n",
    "    print(\"计算结果：\",result[0])\n",
    "    print(result)"
   ]
  },
  {
   "cell_type": "code",
   "execution_count": null,
   "id": "6afadbfe",
   "metadata": {},
   "outputs": [],
   "source": []
  }
 ],
 "metadata": {
  "kernelspec": {
   "display_name": "baidu_paddle",
   "language": "python",
   "name": "baidu_paddle"
  },
  "language_info": {
   "codemirror_mode": {
    "name": "ipython",
    "version": 3
   },
   "file_extension": ".py",
   "mimetype": "text/x-python",
   "name": "python",
   "nbconvert_exporter": "python",
   "pygments_lexer": "ipython3",
   "version": "3.7.15"
  }
 },
 "nbformat": 4,
 "nbformat_minor": 5
}
